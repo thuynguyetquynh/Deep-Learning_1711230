{
  "nbformat": 4,
  "nbformat_minor": 0,
  "metadata": {
    "colab": {
      "name": "AML-lab01.ipynb",
      "provenance": [],
      "collapsed_sections": []
    },
    "kernelspec": {
      "name": "python3",
      "display_name": "Python 3"
    },
    "accelerator": "GPU"
  },
  "cells": [
    {
      "cell_type": "markdown",
      "metadata": {
        "id": "yc9Snq41Hf0n"
      },
      "source": [
        "LAB 01: Getting Started\n",
        "Trong bài thực hành này: \n",
        "\n",
        "1.   Làm quen với Keras \n",
        "    Keras được coi là một thư viện high-level với phần low-level (backend) trong môn học của chúng ta là TensorFlow. Keras cung cấp các API đơn giản, trực quan và tiện dụng hơn TensorFlow. Ngoài ra, keras còn cung cấp các lỗi rõ ràng, dễ dàng xử lý cũng như là có nhiều tài liệu và hướng dẫn.\n",
        "2.   Thiết kế một mạng Convolutional Neural Network đơn giản với dataset MNIST\n",
        "\n",
        "\n",
        "\n",
        "\n"
      ]
    },
    {
      "cell_type": "markdown",
      "metadata": {
        "id": "9TQSvrgnZrlN"
      },
      "source": [
        "**Import thư viện**"
      ]
    },
    {
      "cell_type": "code",
      "metadata": {
        "id": "-ZkBIkrmHGRT"
      },
      "source": [
        "#import các thư viện \n",
        "import tensorflow as tf #thư viện tensorflow\n",
        "import keras #Thư viện keras\n",
        "import numpy as np #Thư viện numpy\n",
        "import matplotlib.pyplot as plt #Thư viện matplotlib để vẽ đồ thị"
      ],
      "execution_count": null,
      "outputs": []
    },
    {
      "cell_type": "code",
      "metadata": {
        "id": "G3k56CflULmT",
        "outputId": "710fd85d-df9f-4771-f493-d5b9de92ce8b",
        "colab": {
          "base_uri": "https://localhost:8080/",
          "height": 35
        }
      },
      "source": [
        "#Kiểm tra version của keras\n",
        "keras.__version__"
      ],
      "execution_count": null,
      "outputs": [
        {
          "output_type": "execute_result",
          "data": {
            "application/vnd.google.colaboratory.intrinsic+json": {
              "type": "string"
            },
            "text/plain": [
              "'2.4.3'"
            ]
          },
          "metadata": {
            "tags": []
          },
          "execution_count": 2
        }
      ]
    },
    {
      "cell_type": "markdown",
      "metadata": {
        "id": "pZwrt7oRZyDt"
      },
      "source": [
        "**Pre-processing**"
      ]
    },
    {
      "cell_type": "markdown",
      "metadata": {
        "id": "wUfYGAsM6XOs"
      },
      "source": [
        "Trước khi cho ảnh vào model chúng ta nên rescale vào đoạn [0,1] để giữ weights không quá lớn. \n",
        "\n",
        "validation sẽ được dùng như một tập dữ liệu để tune các thông số trên đó. Khi đã train xong trên tập validation, chúng ta sẽ tiến hành kiểm thử trên tập test"
      ]
    },
    {
      "cell_type": "code",
      "metadata": {
        "id": "zAc67pOPUkSa",
        "outputId": "16eebe51-440d-4344-f6ba-5e31e2758bde",
        "colab": {
          "base_uri": "https://localhost:8080/",
          "height": 401
        }
      },
      "source": [
        "# Tải dataset MNIST từ tensorflow\n",
        "## MNIST là bài toán dự đoán một ảnh thể hiện ký tự số nào (dùng ảnh trắng đen)\n",
        "\n",
        "## tải MNIST dataset từ keras\n",
        "(X_train, y_train), (X_test, y_test) = keras.datasets.mnist.load_data()\n",
        "##resacle ảnh thành ảnh thực trong đoạn [0,1]\n",
        "X_train, X_test = X_train/255.0, X_test/255.0\n",
        "\n",
        "##in dataset\n",
        "print(X_train.shape, y_train.shape, X_test.shape, y_test.shape)\n",
        "print(\"Có 60000 ảnh dùng để train và valid, 10000 ảnh dùng để test\")\n",
        "print(\"Mỗi ảnh có một kênh màu, kích thước 28x28\")\n",
        "print()\n",
        "\n",
        "## in thử ảnh một ảnh\n",
        "print(\"Ảnh đầu tiên của tập train\")\n",
        "print(\"Label đầu tiên của tập train: \", y_train[0])\n",
        "plt.imshow(X_train[0], cmap='gray')\n",
        "plt.show()\n",
        "\n",
        "#Tách một phần tập train thành tập valid\n",
        "from sklearn.model_selection import train_test_split\n",
        "X_train, X_valid, y_train, y_valid = train_test_split(X_train, y_train, test_size=0.1) # Tách theo tỉ lệ validation/train=1/9"
      ],
      "execution_count": null,
      "outputs": [
        {
          "output_type": "stream",
          "text": [
            "Downloading data from https://storage.googleapis.com/tensorflow/tf-keras-datasets/mnist.npz\n",
            "11493376/11490434 [==============================] - 0s 0us/step\n",
            "(60000, 28, 28) (60000,) (10000, 28, 28) (10000,)\n",
            "Có 60000 ảnh dùng để train và valid, 10000 ảnh dùng để test\n",
            "Mỗi ảnh có một kênh màu, kích thước 28x28\n",
            "\n",
            "Ảnh đầu tiên của tập train\n",
            "Label đầu tiên của tập train:  5\n"
          ],
          "name": "stdout"
        },
        {
          "output_type": "display_data",
          "data": {
            "image/png": "[encoded data removed]",
            "text/plain": [
              "<Figure size 432x288 with 1 Axes>"
            ]
          },
          "metadata": {
            "tags": [],
            "needs_background": "light"
          }
        }
      ]
    },
    {
      "cell_type": "markdown",
      "metadata": {
        "id": "2kCggnT_8sFD"
      },
      "source": [
        "\n",
        "**Sử dụng layer có sẵn của Keras**\n",
        "\n",
        "Keras layer\n",
        "\n",
        "Để tạo một keras layer, đầu tiên cần khởi tạo một layer, và sau đó xác định input cho layer đó\n",
        "\n",
        "ví dụ để tạo một fully connected layer:\n",
        "\n",
        "Khởi tạo layer:\n",
        "\n",
        "dense_layer = Dense(units=10)\n",
        "\n",
        "Xác định input layer:\n",
        "\n",
        "dense_layer_output = dense_layer(input_layer)\n",
        "\n",
        "với input_layer cũng là một layer của keras\n",
        "\n",
        "Người ta thường viết gọn thành:\n",
        "\n",
        "dense_layer_output = Dense(units=10)(input_layer)"
      ]
    },
    {
      "cell_type": "markdown",
      "metadata": {
        "id": "RD3Lyf5429Ue"
      },
      "source": [
        "#Model"
      ]
    },
    {
      "cell_type": "code",
      "metadata": {
        "id": "4l2OF0w6VU0c",
        "outputId": "e0fa2cec-e359-4c76-dc52-376c9b2d0765",
        "colab": {
          "base_uri": "https://localhost:8080/",
          "height": 459
        }
      },
      "source": [
        "## Tạo layer input, mỗi data point có kích thước (28,28)\n",
        "inputs = keras.layers.Input(shape=(28,28))\n",
        "print(\"Kích thước input: {}, None tượng trưng cho số lượng ảnh một batch không xác định trước\".format(inputs.shape))\n",
        "\n",
        "## Reshape input\n",
        "## do input vào lớp convolutional layer cần có 4 chiều, chiều cuối là số kênh,\n",
        "## ảnh mnist là ảnh xám nên chỉ có một kênh\n",
        "inputs_reshape = keras.layers.Reshape((28,28,1))(inputs)\n",
        "print(\"Kích thước sau reshape: {}\".format(inputs_reshape.shape))\n",
        "\n",
        "## Tạo Convolutional Layer\n",
        "### fileters: số lượng filter\n",
        "### kernel_size: kích thước của filter\n",
        "### strides: bước dịch của filter khi tính convolution\n",
        "### padding: thêm số 0 hoặc không tính khi tính filter ở biên\n",
        "    #### có 2 options: \"same\" là sẽ giữ nguyên kích thước ảnh sau khi qua lớp Convolution, \"valid\" kích thước ảnh sẽ đc tính đúng như công thức\n",
        "### activation: hàm kích hoạt của lớp convolution\n",
        "conv = keras.layers.Convolution2D(filters=20,\n",
        "                                 kernel_size=[5,5],\n",
        "                                 strides=[1,1],\n",
        "                                 padding='same',\n",
        "                                 activation=tf.nn.relu)(inputs_reshape)\n",
        "print(\"Kích thước conv: {}, chiều cuối cùng chính là số filter\".format(conv.shape))\n",
        "\n",
        "## Maxpooling\n",
        "### pool_size: kích thước pool để lấy max\n",
        "### strides: bước dịch của pool \n",
        "maxpool = keras.layers.MaxPool2D(pool_size=[2,2],\n",
        "                                strides=[2,2])(conv)\n",
        "print(\"Kích thước sau maxpool: {}\".format(maxpool.shape))\n",
        "\n",
        "## Flatten lớp conv trước khi cho vào lớp dense, vì lớp dense yêu cầu input chỉ là vector\n",
        "flatten = keras.layers.Flatten()(maxpool)\n",
        "print(\"Kích thước flatten: {}\".format(flatten.shape))\n",
        "\n",
        "## Lớp Fully conntected với hàm kích hoạt softmax. units là số Node\n",
        "    ### Lưu ý vì đây là lớp để classify nên hàm kích hoạt bắt buộc phải là softmax, \n",
        "softmax = keras.layers.Dense(units=10, activation='softmax')(flatten)\n",
        "\n",
        "\n",
        "## Tạo model, với input là lớp inputs, outputs là lớp softmax\n",
        "model = keras.models.Model(inputs=inputs, outputs=softmax)\n",
        "\n",
        "## Compile model, \n",
        "    ### optimizer là thuật toán tối ưu ở đây dùng adam\n",
        "    ### loss function là hàm mất mát ở đây dùng sparse_categorical_crossentropy\n",
        "    ### metrics: để theo dõi các đánh giá trong quá trình huấn luyện. Đối với tập MNIST chúng ta dùng accuracy trên top1\n",
        "model.compile(optimizer='adam',\n",
        "             loss=tf.keras.losses.sparse_categorical_crossentropy,\n",
        "             metrics=[\"accuracy\"])\n",
        "    \n",
        "\n",
        "## In toàn bộ cấu trúc của model\n",
        "print(\"Cấu trúc của model: \")\n",
        "model.summary()"
      ],
      "execution_count": null,
      "outputs": [
        {
          "output_type": "stream",
          "text": [
            "Kích thước input: (None, 28, 28), None tượng trưng cho số lượng ảnh một batch không xác định trước\n",
            "Kích thước sau reshape: (None, 28, 28, 1)\n",
            "Kích thước conv: (None, 28, 28, 20), chiều cuối cùng chính là số filter\n",
            "Kích thước sau maxpool: (None, 14, 14, 20)\n",
            "Kích thước flatten: (None, 3920)\n",
            "Cấu trúc của model: \n",
            "Model: \"functional_1\"\n",
            "_________________________________________________________________\n",
            "Layer (type)                 Output Shape              Param #   \n",
            "=================================================================\n",
            "input_1 (InputLayer)         [(None, 28, 28)]          0         \n",
            "_________________________________________________________________\n",
            "reshape (Reshape)            (None, 28, 28, 1)         0         \n",
            "_________________________________________________________________\n",
            "conv2d (Conv2D)              (None, 28, 28, 20)        520       \n",
            "_________________________________________________________________\n",
            "max_pooling2d (MaxPooling2D) (None, 14, 14, 20)        0         \n",
            "_________________________________________________________________\n",
            "flatten (Flatten)            (None, 3920)              0         \n",
            "_________________________________________________________________\n",
            "dense (Dense)                (None, 10)                39210     \n",
            "=================================================================\n",
            "Total params: 39,730\n",
            "Trainable params: 39,730\n",
            "Non-trainable params: 0\n",
            "_________________________________________________________________\n"
          ],
          "name": "stdout"
        }
      ]
    },
    {
      "cell_type": "markdown",
      "metadata": {
        "id": "iOazdKPu3BV-"
      },
      "source": [
        "#Training"
      ]
    },
    {
      "cell_type": "code",
      "metadata": {
        "id": "aA5v3bVbFefX",
        "outputId": "2a9b1040-4fc5-4a39-fd74-302e3753b293",
        "colab": {
          "base_uri": "https://localhost:8080/",
          "height": 391
        }
      },
      "source": [
        "# Dùng hàm fit để bắt đầu train\n",
        "## 2 tham số đầu là 2 numpy array, X_train là ảnh, y_train là label\n",
        "## batch_size: kích thước của data batch\n",
        "## epochs: số epoch tối đa muốn chạy\n",
        "## validation data: model sẽ được đánh giá trên tập valid mỗi epoch\n",
        "history=model.fit(X_train,y_train,\n",
        "                  epochs=10,\n",
        "                  batch_size=100,\n",
        "                  validation_data=(X_valid,y_valid))\n",
        "\n",
        "## Lưu model thành một file\n",
        "model.save_weights(\"first_model.h5\")\n",
        "\n",
        "\n",
        "## Load model\n",
        "model.load_weights(\"first_model.h5\")\n",
        "\n",
        "## Đánh giá model trên tập test\n",
        "test_loss, test_acc = model.evaluate(X_test, y_test)\n",
        "print(\"Loss trên tập test: \", test_loss,\" Accuracy trên tập test: \", test_acc)"
      ],
      "execution_count": null,
      "outputs": [
        {
          "output_type": "stream",
          "text": [
            "Epoch 1/10\n",
            "540/540 [==============================] - 1s 3ms/step - loss: 0.3150 - accuracy: 0.9124 - val_loss: 0.1365 - val_accuracy: 0.9630\n",
            "Epoch 2/10\n",
            "540/540 [==============================] - 1s 2ms/step - loss: 0.1007 - accuracy: 0.9714 - val_loss: 0.0831 - val_accuracy: 0.9745\n",
            "Epoch 3/10\n",
            "540/540 [==============================] - 1s 2ms/step - loss: 0.0715 - accuracy: 0.9793 - val_loss: 0.0707 - val_accuracy: 0.9790\n",
            "Epoch 4/10\n",
            "540/540 [==============================] - 1s 2ms/step - loss: 0.0590 - accuracy: 0.9825 - val_loss: 0.0597 - val_accuracy: 0.9832\n",
            "Epoch 5/10\n",
            "540/540 [==============================] - 1s 2ms/step - loss: 0.0511 - accuracy: 0.9849 - val_loss: 0.0638 - val_accuracy: 0.9807\n",
            "Epoch 6/10\n",
            "540/540 [==============================] - 1s 2ms/step - loss: 0.0454 - accuracy: 0.9865 - val_loss: 0.0531 - val_accuracy: 0.9847\n",
            "Epoch 7/10\n",
            "540/540 [==============================] - 1s 2ms/step - loss: 0.0409 - accuracy: 0.9872 - val_loss: 0.0503 - val_accuracy: 0.9847\n",
            "Epoch 8/10\n",
            "540/540 [==============================] - 1s 2ms/step - loss: 0.0365 - accuracy: 0.9892 - val_loss: 0.0537 - val_accuracy: 0.9833\n",
            "Epoch 9/10\n",
            "540/540 [==============================] - 1s 2ms/step - loss: 0.0329 - accuracy: 0.9901 - val_loss: 0.0504 - val_accuracy: 0.9852\n",
            "Epoch 10/10\n",
            "540/540 [==============================] - 1s 2ms/step - loss: 0.0297 - accuracy: 0.9907 - val_loss: 0.0525 - val_accuracy: 0.9850\n",
            "313/313 [==============================] - 1s 2ms/step - loss: 0.0513 - accuracy: 0.9843\n",
            "Loss trên tập test:  0.051279932260513306  Accuracy trên tập test:  0.9843000173568726\n"
          ],
          "name": "stdout"
        }
      ]
    },
    {
      "cell_type": "markdown",
      "metadata": {
        "id": "qJTouB9MSoGg"
      },
      "source": [
        "#Bài tập"
      ]
    },
    {
      "cell_type": "markdown",
      "metadata": {
        "id": "sKhtmp7MJ6dE"
      },
      "source": [
        "1. Hãy tạo và huấn luyện một mạng no-ron theo cấu trúc sau trên tập MNIST (Tất cả các strides lớp Convolution dùng ở đây là [1,1])\n",
        "\n",
        "![image.png](data:image/png;base64,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)\n",
        "\n",
        " 2. Nêu cách tính các kết quả có trong Param # (Lưu ý Stride dùng ở đây đều là 1)"
      ]
    },
    {
      "cell_type": "markdown",
      "metadata": {
        "id": "8L8DcVAZ9fAm"
      },
      "source": [
        "#Nộp Bài\n",
        "\n",
        "*   Code và chạy kết quả lưu vào file notebook MHNC_TH1_MSSV.ipynb (notebook phải có kết quả chạy nếu ko xem như chưa làm)\n",
        "*   Nén thành file MHNC_TH1_MSSV.rar (.zip) và nộp về: huynhthanh98vn@gmail.com\n",
        "*   Deadline: 23g59 thứ 3 ngày 27/10/2020. Nộp trễ bị chia đôi số điểm.\n",
        "\n",
        "\n",
        "\n",
        "\n",
        "\n",
        "\n"
      ]
    },
    {
      "cell_type": "code",
      "metadata": {
        "id": "YL1eEeMTSIG9"
      },
      "source": [
        ""
      ],
      "execution_count": null,
      "outputs": []
    }
  ]
}